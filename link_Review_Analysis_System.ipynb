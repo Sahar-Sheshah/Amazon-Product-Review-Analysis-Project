{
  "nbformat": 4,
  "nbformat_minor": 0,
  "metadata": {
    "colab": {
      "provenance": []
    },
    "kernelspec": {
      "name": "python3",
      "display_name": "Python 3"
    },
    "language_info": {
      "name": "python"
    }
  },
  "cells": [
    {
      "cell_type": "markdown",
      "source": [
        "\n",
        "\n",
        "#link of https://huggingface.co/spaces/soso45Sahah/products"
      ],
      "metadata": {
        "id": "EpnMXM705krZ"
      }
    }
  ]
}