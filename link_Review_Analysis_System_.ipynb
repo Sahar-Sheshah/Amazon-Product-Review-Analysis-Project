{
  "nbformat": 4,
  "nbformat_minor": 0,
  "metadata": {
    "colab": {
      "provenance": []
    },
    "kernelspec": {
      "name": "python3",
      "display_name": "Python 3"
    },
    "language_info": {
      "name": "python"
    }
  },
  "cells": [
    {
      "cell_type": "markdown",
      "source": [
        "\n",
        "#link of https://huggingface.co/spaces/soso45Sahah/products/tree/main\n",
        "\n",
        "#link of Review_Analysis_System https://huggingface.co/spaces/soso45Sahah/products"
      ],
      "metadata": {
        "id": "EpnMXM705krZ"
      }
    }
  ]
}